{
 "cells": [
  {
   "cell_type": "code",
   "execution_count": 6,
   "id": "13f830e4-27cc-449f-8df5-973817fdd8ca",
   "metadata": {},
   "outputs": [],
   "source": [
    "import torch\n",
    "#from cnn2 import LocallyHierarchicalNet\n",
    "from cnn2_shared import CNN2_shared\n",
    "\n",
    "net = CNN2_shared(\n",
    "    num_layers=4,\n",
    "    input_channels=3,\n",
    "    h=1,\n",
    "    # filter_size=args.filter_size,\n",
    "    out_dim=3,\n",
    "    s0 = 2,\n",
    "    s = 2,\n",
    "    bias=None,\n",
    ")"
   ]
  },
  {
   "cell_type": "code",
   "execution_count": 7,
   "id": "877b944b-f015-4f8d-8409-1b79672596f2",
   "metadata": {},
   "outputs": [
    {
     "name": "stdout",
     "output_type": "stream",
     "text": [
      "torch.Size([1, 3, 1, 6])\n",
      "tensor([[[1., 0., 0.,  ..., 0., 0., 0.]]])\n",
      "False\n",
      "torch.Size([1, 1, 1, 216, 6])\n",
      "False\n",
      "torch.Size([1, 1, 1, 36, 6])\n",
      "False\n",
      "torch.Size([1, 1, 1, 6, 6])\n",
      "torch.Size([1, 1, 6])\n",
      "True\n",
      "torch.Size([1, 1, 2])\n",
      "torch.Size([1, 1, 1, 1, 2])\n",
      "tensor([[0., 0., 0.]], grad_fn=<DivBackward0>)\n"
     ]
    }
   ],
   "source": [
    "s=2\n",
    "s0=2\n",
    "L=4\n",
    "print(net.hier[0].weight.shape)\n",
    "x = torch.zeros([1,1,(s*(s0+1))**L])\n",
    "for j in range(s**L):\n",
    "    x[0,0,j*(s0+1)**L] = 1\n",
    "print(x)\n",
    "print(net(x))\n"
   ]
  },
  {
   "cell_type": "code",
   "execution_count": 25,
   "id": "cc752322-0f57-4b5f-bef4-8bbf952ec50a",
   "metadata": {},
   "outputs": [
    {
     "name": "stdout",
     "output_type": "stream",
     "text": [
      "torch.Size([2, 4, 4])\n",
      "torch.Size([2, 1, 4, 4])\n",
      "torch.Size([10, 4, 4])\n",
      "torch.Size([2, 10, 4, 4])\n",
      "torch.Size([2, 10, 2])\n"
     ]
    }
   ],
   "source": [
    "import torch \n",
    "#NOT SHARED\n",
    "bs = 2\n",
    "cin = 4\n",
    "cout = 10\n",
    "d = 4 #s=2, s0=0, L=2\n",
    "x = torch.zeros([bs,cin,d])\n",
    "w = torch.zeros([cout,cin,d])\n",
    "print(x.shape)\n",
    "print(x[:,None].shape)\n",
    "print(w.shape)\n",
    "x = x[:,None]*w\n",
    "print(x.shape)\n",
    "\n",
    "x = x.view(bs, cout, cin, d // 2, 2) # [bs, cout, cin, space // 2, 2]\n",
    "#*x.shape[:-1]\n",
    "\n",
    "x = x.sum(dim=[-1, -3])\n",
    "print(x.shape)"
   ]
  },
  {
   "cell_type": "code",
   "execution_count": 13,
   "id": "8fab2d3e-7aca-4772-9184-de16a6d8b282",
   "metadata": {},
   "outputs": [
    {
     "name": "stdout",
     "output_type": "stream",
     "text": [
      "torch.Size([2, 5, 4])\n",
      "torch.Size([2, 5, 2])\n",
      "torch.Size([2, 10, 5, 2])\n",
      "torch.Size([2, 10, 1])\n"
     ]
    }
   ],
   "source": [
    "import torch \n",
    "#SHARED\n",
    "bs = 2\n",
    "cin = 5\n",
    "cout = 10\n",
    "s= 2\n",
    "s0 =1\n",
    "L=1\n",
    "d = (s*(s0+1))**L\n",
    "\n",
    "x = torch.zeros([bs,cin,d])\n",
    "w = torch.zeros([cout,cin,int(d/(s0+1))])\n",
    "print(x.shape)\n",
    "#print(w.shape)\n",
    "\n",
    "x = x.reshape(*x.shape[:-1], int(x.shape[-1]/(s0+1)),s0+1)\n",
    "x = x.sum(dim = [-1])\n",
    "print(x.shape)\n",
    "x = x[:,None]*w\n",
    "print(x.shape)\n",
    "\n",
    "x = x.view(bs, cout, cin, d // (s*(s0+1)), s) # [bs, cout, cin, space // 2, 2]\n",
    "#*x.shape[:-1]\n",
    "\n",
    "x = x.sum(dim=[-1, -3])\n",
    "print(x.shape)\n"
   ]
  },
  {
   "cell_type": "code",
   "execution_count": null,
   "id": "3bb84b2a-3044-42df-aa57-8679c0b3dabc",
   "metadata": {},
   "outputs": [],
   "source": []
  }
 ],
 "metadata": {
  "kernelspec": {
   "display_name": "Python 3 (ipykernel)",
   "language": "python",
   "name": "python3"
  },
  "language_info": {
   "codemirror_mode": {
    "name": "ipython",
    "version": 3
   },
   "file_extension": ".py",
   "mimetype": "text/x-python",
   "name": "python",
   "nbconvert_exporter": "python",
   "pygments_lexer": "ipython3",
   "version": "3.10.4"
  }
 },
 "nbformat": 4,
 "nbformat_minor": 5
}
