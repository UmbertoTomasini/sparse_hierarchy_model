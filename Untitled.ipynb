{
 "cells": [
  {
   "cell_type": "code",
   "execution_count": 9,
   "id": "20b9a6b3-12ca-4a05-9bc2-6e7eff7eb6d4",
   "metadata": {},
   "outputs": [],
   "source": [
    "import torch\n",
    "from hierarchical_s0_bs_S_diffeoB import HierarchicalDataset\n",
    "\n",
    "st = 'dataset_creating/storing_diffeoB'\n",
    "file_path = [st+'/dataHier_B_n_6_m_6_nc_6_L_2_s0_1_s_2_idx_0_seed_1.pt']\n",
    "#st = 'dataset_creating/storing_all0'\n",
    "#file_path = [st+'/dataHier_n_6_m_6_nc_6_L_2_s0_1_s_2_idx_0.pt']\n",
    "index= 0\n",
    "dataset_part = torch.load(file_path[index])\n"
   ]
  },
  {
   "cell_type": "code",
   "execution_count": 11,
   "id": "f643ab44-2cc3-4c8f-a10a-c9854ae8b2b1",
   "metadata": {},
   "outputs": [
    {
     "data": {
      "text/plain": [
       "(tensor([[-0.4472, -0.4472, -0.4472, -0.4472, -0.4472, -0.4472, -0.4472, -0.4472,\n",
       "          -0.4472, -0.4472, -0.4472, -0.4472, -0.4472, -0.4472, -0.4472, -0.4472],\n",
       "         [-0.4472, -0.4472,  1.0000, -0.4472, -0.4472, -0.4472, -0.4472, -0.4472,\n",
       "          -0.4472, -0.4472, -0.4472, -0.4472, -0.4472, -0.4472, -0.4472, -0.4472],\n",
       "         [-0.4472, -0.4472, -0.4472, -0.4472, -0.4472, -0.4472, -0.4472, -0.4472,\n",
       "          -0.4472, -0.4472, -0.4472, -0.4472,  1.0000, -0.4472, -0.4472, -0.4472],\n",
       "         [-0.4472, -0.4472, -0.4472,  1.0000, -0.4472, -0.4472, -0.4472, -0.4472,\n",
       "          -0.4472, -0.4472, -0.4472, -0.4472, -0.4472, -0.4472, -0.4472, -0.4472],\n",
       "         [-0.4472, -0.4472, -0.4472, -0.4472, -0.4472, -0.4472, -0.4472, -0.4472,\n",
       "          -0.4472, -0.4472, -0.4472, -0.4472, -0.4472, -0.4472, -0.4472, -0.4472],\n",
       "         [-0.4472, -0.4472, -0.4472, -0.4472, -0.4472, -0.4472, -0.4472, -0.4472,\n",
       "          -0.4472, -0.4472, -0.4472, -0.4472, -0.4472,  1.0000, -0.4472, -0.4472]]),\n",
       " tensor(0))"
      ]
     },
     "execution_count": 11,
     "metadata": {},
     "output_type": "execute_result"
    }
   ],
   "source": [
    "dataset_part.x[0], dataset_part.targets[0]"
   ]
  },
  {
   "cell_type": "code",
   "execution_count": 12,
   "id": "63218532-5f53-4951-976c-d3377756c3ec",
   "metadata": {},
   "outputs": [
    {
     "name": "stdout",
     "output_type": "stream",
     "text": [
      "['dataset_creating/storing_all0/dataHier_n_6_m_6_nc_6_L_2_s0_1_idx_0.pt', 'dataset_creating/storing_all0/dataHier_n_6_m_6_nc_6_L_2_s0_1_idx_1.pt', 'dataset_creating/storing_all0/dataHier_n_6_m_6_nc_6_L_2_s0_1_idx_2.pt']\n"
     ]
    }
   ],
   "source": [
    "import torch\n",
    "from hierarchical_s0_bs_S_diffeoB import HierarchicalDataset\n",
    "st = 'dataset_creating/storing_all0'\n",
    "file_paths = [st+'/dataHier_n_%d_m_%d_nc_%d_L_%d_s0_%d_idx_%d.pt'%(6,6,6,2,1,idx_bs) for idx_bs in range(3)]\n",
    "print(file_paths)"
   ]
  },
  {
   "cell_type": "code",
   "execution_count": null,
   "id": "c690777b-15f5-4a23-93a0-a9ee89e3257d",
   "metadata": {},
   "outputs": [],
   "source": []
  }
 ],
 "metadata": {
  "kernelspec": {
   "display_name": "Python 3 (ipykernel)",
   "language": "python",
   "name": "python3"
  },
  "language_info": {
   "codemirror_mode": {
    "name": "ipython",
    "version": 3
   },
   "file_extension": ".py",
   "mimetype": "text/x-python",
   "name": "python",
   "nbconvert_exporter": "python",
   "pygments_lexer": "ipython3",
   "version": "3.10.4"
  }
 },
 "nbformat": 4,
 "nbformat_minor": 5
}
